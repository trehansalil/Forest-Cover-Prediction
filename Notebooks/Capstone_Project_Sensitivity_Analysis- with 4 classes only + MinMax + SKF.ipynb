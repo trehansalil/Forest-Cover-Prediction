{
 "cells": [
  {
   "cell_type": "markdown",
   "metadata": {},
   "source": [
    "# Business Problem:\n",
    "\n",
    "- Prediction of various Forest cover types from the aforementioned categories given in the data using Cartographic variables as the target variable to get accurate predictions viable for state, private and federal agencies.\n",
    "- Which one among Elevation, Slope & Aspect actually turn out to improve predictions in the best possible way?\n"
   ]
  },
  {
   "cell_type": "markdown",
   "metadata": {},
   "source": [
    "# Understanding the variables\n",
    "\n",
    "- The azimuth is the angular direction of the sun, measured from north in clockwise degrees from 0 to 360. An azimuth of 90 degrees is east. The default azimuth is 315 degrees (NW)."
   ]
  },
  {
   "cell_type": "code",
   "execution_count": 1,
   "metadata": {
    "colab": {},
    "colab_type": "code",
    "id": "mpOXGJ-4LnhG"
   },
   "outputs": [],
   "source": [
    "import pandas as pd\n",
    "import numpy as np\n",
    "import matplotlib.pyplot as plt\n",
    "import seaborn as sns\n",
    "from sklearn.pipeline import Pipeline\n",
    "from sklearn.preprocessing import StandardScaler, LabelEncoder, PowerTransformer, MinMaxScaler\n",
    "from sklearn.ensemble import RandomForestClassifier, AdaBoostClassifier, BaggingClassifier, GradientBoostingClassifier\n",
    "from sklearn.naive_bayes import GaussianNB\n",
    "from sklearn.svm import SVC\n",
    "from sklearn.neighbors import KNeighborsClassifier\n",
    "from sklearn.tree import DecisionTreeClassifier\n",
    "from sklearn.model_selection import train_test_split, KFold, cross_val_score, StratifiedKFold, cross_val_predict, GroupKFold\n",
    "from sklearn.metrics import classification_report, cohen_kappa_score, confusion_matrix, f1_score\n",
    "from xgboost.sklearn import XGBClassifier\n",
    "\n",
    "import warnings\n",
    "warnings.filterwarnings('ignore')"
   ]
  },
  {
   "cell_type": "code",
   "execution_count": 2,
   "metadata": {
    "colab": {},
    "colab_type": "code",
    "id": "rhwHNbdwMHMd"
   },
   "outputs": [],
   "source": [
    "#from google.colab import drive\n",
    "#drive.mount('/content/drive')\n",
    "\n",
    "path = '/content/drive/My Drive/Colab Notebooks/covtype_rem_dummies.csv'\n",
    "df = pd.read_csv('covtype_rem_dummies.csv')"
   ]
  },
  {
   "cell_type": "code",
   "execution_count": 3,
   "metadata": {
    "colab": {},
    "colab_type": "code",
    "id": "RDdW779pLnhP"
   },
   "outputs": [
    {
     "data": {
      "text/html": [
       "<div>\n",
       "<style scoped>\n",
       "    .dataframe tbody tr th:only-of-type {\n",
       "        vertical-align: middle;\n",
       "    }\n",
       "\n",
       "    .dataframe tbody tr th {\n",
       "        vertical-align: top;\n",
       "    }\n",
       "\n",
       "    .dataframe thead th {\n",
       "        text-align: right;\n",
       "    }\n",
       "</style>\n",
       "<table border=\"1\" class=\"dataframe\">\n",
       "  <thead>\n",
       "    <tr style=\"text-align: right;\">\n",
       "      <th></th>\n",
       "      <th>Unnamed: 0</th>\n",
       "      <th>Elevation</th>\n",
       "      <th>Aspect</th>\n",
       "      <th>Slope</th>\n",
       "      <th>Horizontal_Distance_To_Hydrology</th>\n",
       "      <th>Vertical_Distance_To_Hydrology</th>\n",
       "      <th>Horizontal_Distance_To_Roadways</th>\n",
       "      <th>Hillshade_9am</th>\n",
       "      <th>Hillshade_Noon</th>\n",
       "      <th>Hillshade_3pm</th>\n",
       "      <th>Horizontal_Distance_To_Fire_Points</th>\n",
       "      <th>Forest_Cover_Type_designation</th>\n",
       "      <th>Soil_types</th>\n",
       "      <th>Winderness_types</th>\n",
       "    </tr>\n",
       "  </thead>\n",
       "  <tbody>\n",
       "    <tr>\n",
       "      <td>0</td>\n",
       "      <td>0</td>\n",
       "      <td>2596</td>\n",
       "      <td>51</td>\n",
       "      <td>3</td>\n",
       "      <td>258</td>\n",
       "      <td>0</td>\n",
       "      <td>510</td>\n",
       "      <td>221</td>\n",
       "      <td>232</td>\n",
       "      <td>148</td>\n",
       "      <td>6279</td>\n",
       "      <td>5</td>\n",
       "      <td>Soil_Type_29</td>\n",
       "      <td>Wilderness_Area_1</td>\n",
       "    </tr>\n",
       "    <tr>\n",
       "      <td>1</td>\n",
       "      <td>1</td>\n",
       "      <td>2590</td>\n",
       "      <td>56</td>\n",
       "      <td>2</td>\n",
       "      <td>212</td>\n",
       "      <td>-6</td>\n",
       "      <td>390</td>\n",
       "      <td>220</td>\n",
       "      <td>235</td>\n",
       "      <td>151</td>\n",
       "      <td>6225</td>\n",
       "      <td>5</td>\n",
       "      <td>Soil_Type_29</td>\n",
       "      <td>Wilderness_Area_1</td>\n",
       "    </tr>\n",
       "    <tr>\n",
       "      <td>2</td>\n",
       "      <td>2</td>\n",
       "      <td>2804</td>\n",
       "      <td>139</td>\n",
       "      <td>9</td>\n",
       "      <td>268</td>\n",
       "      <td>65</td>\n",
       "      <td>3180</td>\n",
       "      <td>234</td>\n",
       "      <td>238</td>\n",
       "      <td>135</td>\n",
       "      <td>6121</td>\n",
       "      <td>2</td>\n",
       "      <td>Soil_Type_12</td>\n",
       "      <td>Wilderness_Area_1</td>\n",
       "    </tr>\n",
       "    <tr>\n",
       "      <td>3</td>\n",
       "      <td>3</td>\n",
       "      <td>2785</td>\n",
       "      <td>155</td>\n",
       "      <td>18</td>\n",
       "      <td>242</td>\n",
       "      <td>118</td>\n",
       "      <td>3090</td>\n",
       "      <td>238</td>\n",
       "      <td>238</td>\n",
       "      <td>122</td>\n",
       "      <td>6211</td>\n",
       "      <td>2</td>\n",
       "      <td>Soil_Type_30</td>\n",
       "      <td>Wilderness_Area_1</td>\n",
       "    </tr>\n",
       "    <tr>\n",
       "      <td>4</td>\n",
       "      <td>4</td>\n",
       "      <td>2595</td>\n",
       "      <td>45</td>\n",
       "      <td>2</td>\n",
       "      <td>153</td>\n",
       "      <td>-1</td>\n",
       "      <td>391</td>\n",
       "      <td>220</td>\n",
       "      <td>234</td>\n",
       "      <td>150</td>\n",
       "      <td>6172</td>\n",
       "      <td>5</td>\n",
       "      <td>Soil_Type_29</td>\n",
       "      <td>Wilderness_Area_1</td>\n",
       "    </tr>\n",
       "  </tbody>\n",
       "</table>\n",
       "</div>"
      ],
      "text/plain": [
       "   Unnamed: 0  Elevation  Aspect  Slope  Horizontal_Distance_To_Hydrology  \\\n",
       "0           0       2596      51      3                               258   \n",
       "1           1       2590      56      2                               212   \n",
       "2           2       2804     139      9                               268   \n",
       "3           3       2785     155     18                               242   \n",
       "4           4       2595      45      2                               153   \n",
       "\n",
       "   Vertical_Distance_To_Hydrology  Horizontal_Distance_To_Roadways  \\\n",
       "0                               0                              510   \n",
       "1                              -6                              390   \n",
       "2                              65                             3180   \n",
       "3                             118                             3090   \n",
       "4                              -1                              391   \n",
       "\n",
       "   Hillshade_9am  Hillshade_Noon  Hillshade_3pm  \\\n",
       "0            221             232            148   \n",
       "1            220             235            151   \n",
       "2            234             238            135   \n",
       "3            238             238            122   \n",
       "4            220             234            150   \n",
       "\n",
       "   Horizontal_Distance_To_Fire_Points  Forest_Cover_Type_designation  \\\n",
       "0                                6279                              5   \n",
       "1                                6225                              5   \n",
       "2                                6121                              2   \n",
       "3                                6211                              2   \n",
       "4                                6172                              5   \n",
       "\n",
       "     Soil_types   Winderness_types  \n",
       "0  Soil_Type_29  Wilderness_Area_1  \n",
       "1  Soil_Type_29  Wilderness_Area_1  \n",
       "2  Soil_Type_12  Wilderness_Area_1  \n",
       "3  Soil_Type_30  Wilderness_Area_1  \n",
       "4  Soil_Type_29  Wilderness_Area_1  "
      ]
     },
     "execution_count": 3,
     "metadata": {},
     "output_type": "execute_result"
    }
   ],
   "source": [
    "df.head()"
   ]
  },
  {
   "cell_type": "code",
   "execution_count": 4,
   "metadata": {
    "colab": {},
    "colab_type": "code",
    "id": "vmPxWI46M0ON"
   },
   "outputs": [],
   "source": [
    "df = df.drop(columns='Unnamed: 0')\n",
    "df = df[(df['Forest_Cover_Type_designation'] == 1) | (df['Forest_Cover_Type_designation'] == 2) | (df['Forest_Cover_Type_designation'] == 3) | (df['Forest_Cover_Type_designation'] == 7)]"
   ]
  },
  {
   "cell_type": "markdown",
   "metadata": {},
   "source": [
    "# doesn't give any meaning currently."
   ]
  },
  {
   "cell_type": "markdown",
   "metadata": {},
   "source": [
    "Without Transformation, it will behave like Binary Classification\n",
    "\n",
    "That's why we run Sensitivity Analysis"
   ]
  },
  {
   "cell_type": "markdown",
   "metadata": {},
   "source": [
    "Pilot Study - Pivotal Study - Then derive the best method\n",
    "\n",
    "Summary Table of Negative and Positive findings."
   ]
  },
  {
   "cell_type": "markdown",
   "metadata": {},
   "source": [
    "Hinge Law - Measure of error"
   ]
  },
  {
   "cell_type": "markdown",
   "metadata": {},
   "source": [
    "Sensitivty Analysis\n",
    "\n",
    "Multiclass SVM"
   ]
  },
  {
   "cell_type": "markdown",
   "metadata": {},
   "source": [
    "# Unused Codes"
   ]
  },
  {
   "cell_type": "code",
   "execution_count": 5,
   "metadata": {},
   "outputs": [
    {
     "data": {
      "text/plain": [
       "\"acc = []\\n\\ntra = []\\ntesta = []\\nfor i in range(10, 31):\\n    dt = DecisionTreeClassifier(criterion = 'gini', random_state=0, max_depth = i)\\n    dt_bag = BaggingClassifier(base_estimator = dt, n_jobs=-1, random_state=0)\\n\\n    X_train, X_test, y_train, y_test = train_test_split(X, y, test_size = 0.2, random_state = 123)\\n\\n    model_bg = Pipeline([('sc', StandardScaler()), ('Bagged Decision Tree', dt_bag)]).fit(X_train, y_train)\\n\\n    y_pred = model_bg.predict(X_test)\\n\\n    print('cohens kappa score:', cohen_kappa_score(y_test, y_pred))\\n\\n    print(classification_report(y_test, y_pred))\\n\\n\\n\\n\\n    print('Training Accuracy', model_bg.score(X_train,y_train))\\n    print('Testing Accuracy', model_bg.score(X_test,y_test))\\n\\n    tr = model_bg.score(X_train,y_train)\\n    tes = model_bg.score(X_test,y_test)\\n\\n    tra.append(tr)\\n    testa.append(tes)\""
      ]
     },
     "execution_count": 5,
     "metadata": {},
     "output_type": "execute_result"
    }
   ],
   "source": [
    "'''acc = []\n",
    "\n",
    "tra = []\n",
    "testa = []\n",
    "for i in range(10, 31):\n",
    "    dt = DecisionTreeClassifier(criterion = 'gini', random_state=0, max_depth = i)\n",
    "    dt_bag = BaggingClassifier(base_estimator = dt, n_jobs=-1, random_state=0)\n",
    "\n",
    "    X_train, X_test, y_train, y_test = train_test_split(X, y, test_size = 0.2, random_state = 123)\n",
    "\n",
    "    model_bg = Pipeline([('sc', StandardScaler()), ('Bagged Decision Tree', dt_bag)]).fit(X_train, y_train)\n",
    "\n",
    "    y_pred = model_bg.predict(X_test)\n",
    "\n",
    "    print('cohens kappa score:', cohen_kappa_score(y_test, y_pred))\n",
    "\n",
    "    print(classification_report(y_test, y_pred))\n",
    "\n",
    "\n",
    "\n",
    "\n",
    "    print('Training Accuracy', model_bg.score(X_train,y_train))\n",
    "    print('Testing Accuracy', model_bg.score(X_test,y_test))\n",
    "\n",
    "    tr = model_bg.score(X_train,y_train)\n",
    "    tes = model_bg.score(X_test,y_test)\n",
    "\n",
    "    tra.append(tr)\n",
    "    testa.append(tes)'''"
   ]
  },
  {
   "cell_type": "code",
   "execution_count": 6,
   "metadata": {
    "colab": {},
    "colab_type": "code",
    "id": "Qbb8XrUgLnh1"
   },
   "outputs": [
    {
     "data": {
      "text/plain": [
       "\"from sklearn.model_selection import learning_curve\\ndt = DecisionTreeClassifier(criterion = 'gini', random_state=0)\\ndt_bag = BaggingClassifier(base_estimator = dt, n_jobs=-1, random_state=0,n_estimators=10)\\n\\ntrain_sizes, train_scores, validation_scores = learning_curve(estimator = dt_bag, X = X, y=y\\n                                                              , train_sizes = [0.2, 0.8]\\n                                                              , cv = 5, scoring = 'f1_weighted', n_jobs=-1)\""
      ]
     },
     "execution_count": 6,
     "metadata": {},
     "output_type": "execute_result"
    }
   ],
   "source": [
    "'''from sklearn.model_selection import learning_curve\n",
    "dt = DecisionTreeClassifier(criterion = 'gini', random_state=0)\n",
    "dt_bag = BaggingClassifier(base_estimator = dt, n_jobs=-1, random_state=0,n_estimators=10)\n",
    "\n",
    "train_sizes, train_scores, validation_scores = learning_curve(estimator = dt_bag, X = X, y=y\n",
    "                                                              , train_sizes = [0.2, 0.8]\n",
    "                                                              , cv = 5, scoring = 'f1_weighted', n_jobs=-1)'''"
   ]
  },
  {
   "cell_type": "code",
   "execution_count": 7,
   "metadata": {
    "colab": {},
    "colab_type": "code",
    "id": "Fh_61WRtLnhx",
    "outputId": "6d48c130-8bee-4bd4-b543-f115577b2d2b",
    "scrolled": true
   },
   "outputs": [
    {
     "data": {
      "text/plain": [
       "\"train_sizes = [i for i in range(3,32,1)]\\nplt.plot(train_sizes, tr, label = 'Training error')\\nplt.plot(train_sizes, tes, label = 'Validation error')\\nplt.ylabel('Accuracy', fontsize = 14)\\nplt.xlabel('Training set size', fontsize = 14)\\nplt.title('Learning curves for a bagged DT model', fontsize = 18, y = 1.03)\\nplt.legend()\\nplt.grid()\\nplt.ylim(0.6,1.01)\""
      ]
     },
     "execution_count": 7,
     "metadata": {},
     "output_type": "execute_result"
    }
   ],
   "source": [
    "'''train_sizes = [i for i in range(3,32,1)]\n",
    "plt.plot(train_sizes, tr, label = 'Training error')\n",
    "plt.plot(train_sizes, tes, label = 'Validation error')\n",
    "plt.ylabel('Accuracy', fontsize = 14)\n",
    "plt.xlabel('Training set size', fontsize = 14)\n",
    "plt.title('Learning curves for a bagged DT model', fontsize = 18, y = 1.03)\n",
    "plt.legend()\n",
    "plt.grid()\n",
    "plt.ylim(0.6,1.01)'''"
   ]
  },
  {
   "cell_type": "code",
   "execution_count": 8,
   "metadata": {
    "colab": {},
    "colab_type": "code",
    "id": "eJDi9RTaLnh2",
    "outputId": "5eb2d5a1-e883-4c05-c7b4-ad11da1e4c70"
   },
   "outputs": [],
   "source": [
    "# train_scores"
   ]
  },
  {
   "cell_type": "code",
   "execution_count": 9,
   "metadata": {
    "colab": {},
    "colab_type": "code",
    "id": "BF2o491rLnh4",
    "outputId": "ea393eae-7aef-4eff-bb17-0b9826800951"
   },
   "outputs": [],
   "source": [
    "# validation_scores"
   ]
  },
  {
   "cell_type": "code",
   "execution_count": 10,
   "metadata": {
    "colab": {},
    "colab_type": "code",
    "id": "gF3mulBSLnh5",
    "outputId": "c7fd18a5-30cb-46fd-c6d6-e3afddd8497c",
    "scrolled": true
   },
   "outputs": [
    {
     "data": {
      "text/plain": [
       "\"plt.style.use('seaborn')\\nplt.plot(train_sizes, train_scores, label = 'Training error')\\nplt.plot(train_sizes, validation_scores, label = 'Validation error')\\nplt.ylabel('Accuracy', fontsize = 14)\\nplt.xlabel('Training set size', fontsize = 14)\\nplt.title('Learning curves for a linear regression model', fontsize = 18, y = 1.03)\\nplt.legend()\\nplt.ylim(0.4,1.1)\""
      ]
     },
     "execution_count": 10,
     "metadata": {},
     "output_type": "execute_result"
    }
   ],
   "source": [
    "'''plt.style.use('seaborn')\n",
    "plt.plot(train_sizes, train_scores, label = 'Training error')\n",
    "plt.plot(train_sizes, validation_scores, label = 'Validation error')\n",
    "plt.ylabel('Accuracy', fontsize = 14)\n",
    "plt.xlabel('Training set size', fontsize = 14)\n",
    "plt.title('Learning curves for a linear regression model', fontsize = 18, y = 1.03)\n",
    "plt.legend()\n",
    "plt.ylim(0.4,1.1)'''"
   ]
  },
  {
   "cell_type": "markdown",
   "metadata": {},
   "source": [
    "# Model Building"
   ]
  },
  {
   "cell_type": "markdown",
   "metadata": {
    "colab": {},
    "colab_type": "code",
    "id": "8EO9wzHsLniC",
    "outputId": "b4c39179-c2bc-4624-eb31-8f7ea3cddaad"
   },
   "source": [
    "### Starting with model bulding now. We have written a function tailor made to our requirements over here"
   ]
  },
  {
   "cell_type": "code",
   "execution_count": 23,
   "metadata": {
    "colab": {},
    "colab_type": "code",
    "id": "X_X20XENLniG"
   },
   "outputs": [],
   "source": [
    "def modelis(X, method, fold):\n",
    "    method = str(method)\n",
    "    if method == 'minmax':\n",
    "        mn = MinMaxScaler()\n",
    "        X_std = mn.fit_transform(X)\n",
    "        \n",
    "    elif method == 'power':\n",
    "        pt = PowerTransformer()\n",
    "        X_std = pt.fit_transform(X)\n",
    "        \n",
    "    else:\n",
    "        sc = StandardScaler()\n",
    "        X_std = sc.fit_transform(X)\n",
    "        \n",
    "    #gb = GradientBoostingClassifier()\n",
    "    nb = GaussianNB()\n",
    "    dt = DecisionTreeClassifier(criterion = 'gini', random_state=0) # Specifying random state is to 0\n",
    "    rg_dt = DecisionTreeClassifier(criterion = 'gini', random_state=0, max_depth=7)    \n",
    "    #knn = KNeighborsClassifier(weights='distance')\n",
    "    \n",
    "    rf = RandomForestClassifier(n_estimators= 10, criterion= 'entropy', random_state=0)\n",
    "    dt_bag = BaggingClassifier(base_estimator = dt, n_jobs=-1, random_state=0)\n",
    "    dt_rg_bag = BaggingClassifier(base_estimator = rg_dt, n_jobs=-1, random_state=0)    \n",
    "    dt_boost = AdaBoostClassifier(base_estimator= dt, n_estimators= 10, random_state=0)\n",
    "    #rf_boost = AdaBoostClassifier(base_estimator= rf, n_estimators= 100, random_state=0)\n",
    "\n",
    "    models = []\n",
    "\n",
    "    #models.append(('Gradient_Boosting', gb))\n",
    "    models.append(('Naive_Bayes', nb))\n",
    "    models.append(('Decision_Tree', dt))\n",
    "    #models.append(('KNN', knn))\n",
    "    models.append(('Bagged_Decision_Tree',dt_bag))\n",
    "    models.append(('Random_Forest', rf))\n",
    "    models.append(('Boosted_Decision_Tree', dt_boost))\n",
    "    models.append(('Bagged_RG_DT', dt_rg_bag))\n",
    "\n",
    "    result= []\n",
    "    names = []\n",
    "    for name,model in models:\n",
    "        if fold == 'kf':\n",
    "            skf = KFold(shuffle=True, n_splits=5, random_state=0)\n",
    "        elif fold == 'skf':\n",
    "            skf = StratifiedKFold(shuffle=True, n_splits=5, random_state=0)\n",
    "        else:\n",
    "            skf = KFold(shuffle=True, n_splits=5, random_state=0)\n",
    "        cv_results = cross_val_score(model, X_std, y, cv=skf, scoring='f1_weighted')\n",
    "        result.append(cv_results)\n",
    "        names.append(name)\n",
    "        print('%s: %f, (%f)' %(name, 1-np.mean(cv_results), np.var(cv_results, ddof=1)))\n",
    "    fig = plt.figure()\n",
    "    plt.grid()\n",
    "    fig.suptitle('Algo Comparison')\n",
    "    ax = fig.add_subplot(111)\n",
    "    plt.xticks(rotation=90)\n",
    "    plt.boxplot(result)\n",
    "    ax.set_xticklabels(names)\n",
    "    plt.show()"
   ]
  },
  {
   "cell_type": "markdown",
   "metadata": {},
   "source": [
    "##### Note: We are not using KNN because it is taking too much time to run. Hence, practically not feasible"
   ]
  },
  {
   "cell_type": "markdown",
   "metadata": {},
   "source": [
    "# Base Model"
   ]
  },
  {
   "cell_type": "code",
   "execution_count": 12,
   "metadata": {},
   "outputs": [],
   "source": [
    "dummy_df = pd.get_dummies(df, drop_first=True)"
   ]
  },
  {
   "cell_type": "code",
   "execution_count": 13,
   "metadata": {},
   "outputs": [],
   "source": [
    "X = dummy_df.drop(columns='Forest_Cover_Type_designation')\n",
    "y = dummy_df['Forest_Cover_Type_designation']\n",
    "X_train, X_test, y_train, y_test = train_test_split(X, y, test_size= 0.2, random_state= 123)"
   ]
  },
  {
   "cell_type": "code",
   "execution_count": 14,
   "metadata": {
    "colab": {},
    "colab_type": "code",
    "id": "tKSwORjRLniJ"
   },
   "outputs": [],
   "source": [
    "sc = StandardScaler()\n",
    "X_train_std = sc.fit_transform(X_train)\n",
    "X_test_std = sc.transform(X_test)"
   ]
  },
  {
   "cell_type": "code",
   "execution_count": 15,
   "metadata": {
    "colab": {},
    "colab_type": "code",
    "id": "5TODJhK4LniK"
   },
   "outputs": [],
   "source": [
    "rf = RandomForestClassifier(random_state = 0)\n",
    "model_1 = rf.fit(X_train_std, y_train)"
   ]
  },
  {
   "cell_type": "code",
   "execution_count": 16,
   "metadata": {
    "colab": {},
    "colab_type": "code",
    "id": "syS60k2gLniL"
   },
   "outputs": [],
   "source": [
    "y_pred_1 = model_1.predict(X_test_std)"
   ]
  },
  {
   "cell_type": "code",
   "execution_count": 17,
   "metadata": {
    "colab": {},
    "colab_type": "code",
    "id": "veXJM7CzLniL",
    "outputId": "efffd176-cb4d-4b45-ae59-25b6335b3097",
    "scrolled": true
   },
   "outputs": [
    {
     "name": "stdout",
     "output_type": "stream",
     "text": [
      "              precision    recall  f1-score   support\n",
      "\n",
      "           1       0.94      0.95      0.94     42393\n",
      "           2       0.96      0.96      0.96     56673\n",
      "           3       0.98      0.97      0.98      7092\n",
      "           7       0.97      0.93      0.95      4123\n",
      "\n",
      "    accuracy                           0.95    110281\n",
      "   macro avg       0.96      0.95      0.96    110281\n",
      "weighted avg       0.95      0.95      0.95    110281\n",
      "\n"
     ]
    }
   ],
   "source": [
    "print(classification_report(y_test, y_pred_1))"
   ]
  },
  {
   "cell_type": "code",
   "execution_count": 18,
   "metadata": {
    "colab": {},
    "colab_type": "code",
    "id": "rIOwXa9XLniM",
    "outputId": "4ebaf3ef-32bf-4552-ef6e-df09688021d2"
   },
   "outputs": [
    {
     "name": "stdout",
     "output_type": "stream",
     "text": [
      "Training Score 0.9983111324706885\n",
      "Testing Score 0.9529746737878692\n"
     ]
    }
   ],
   "source": [
    "print('Training Score',model_1.score(X_train_std, y_train))\n",
    "print('Testing Score',model_1.score(X_test_std, y_test))"
   ]
  },
  {
   "cell_type": "code",
   "execution_count": 19,
   "metadata": {},
   "outputs": [
    {
     "data": {
      "image/png": "[encoded data removed]",
      "text/plain": [
       "<Figure size 864x432 with 1 Axes>"
      ]
     },
     "metadata": {
      "needs_background": "light"
     },
     "output_type": "display_data"
    }
   ],
   "source": [
    "plt.figure(figsize=(12,6))\n",
    "pd.DataFrame(rf.feature_importances_, index = X_train.columns)[0].sort_values(ascending=False)[:15].plot(kind='barh')\n",
    "plt.show()"
   ]
  },
  {
   "cell_type": "code",
   "execution_count": 24,
   "metadata": {
    "colab": {},
    "colab_type": "code",
    "id": "9ByTtAktLniH",
    "outputId": "a5083b11-333a-4e4e-c1bd-7e7e8ce6c263"
   },
   "outputs": [
    {
     "name": "stdout",
     "output_type": "stream",
     "text": [
      "Naive_Bayes: 0.893758, (0.000001)\n",
      "Decision_Tree: 0.050889, (0.000000)\n",
      "Bagged_Decision_Tree: 0.032321, (0.000000)\n",
      "Random_Forest: 0.044294, (0.000002)\n",
      "Boosted_Decision_Tree: 0.050956, (0.000000)\n",
      "Bagged_RG_DT: 0.227109, (0.000005)\n"
     ]
    },
    {
     "data": {
      "image/png": "[encoded data removed]",
      "text/plain": [
       "<Figure size 432x288 with 1 Axes>"
      ]
     },
     "metadata": {
      "needs_background": "light"
     },
     "output_type": "display_data"
    }
   ],
   "source": [
    "modelis(X, method = 'sc', fold= 'kf')"
   ]
  },
  {
   "cell_type": "code",
   "execution_count": 25,
   "metadata": {},
   "outputs": [
    {
     "name": "stdout",
     "output_type": "stream",
     "text": [
      "Naive_Bayes: 0.893760, (0.000001)\n",
      "Decision_Tree: 0.051142, (0.000001)\n",
      "Bagged_Decision_Tree: 0.032001, (0.000001)\n",
      "Random_Forest: 0.044660, (0.000001)\n",
      "Boosted_Decision_Tree: 0.050984, (0.000001)\n",
      "Bagged_RG_DT: 0.225786, (0.000008)\n"
     ]
    },
    {
     "data": {
      "image/png": "[encoded data removed]",
      "text/plain": [
       "<Figure size 432x288 with 1 Axes>"
      ]
     },
     "metadata": {
      "needs_background": "light"
     },
     "output_type": "display_data"
    }
   ],
   "source": [
    "modelis(X, method = 'sc', fold= 'skf')\n",
    "\n",
    "'''Naive_Bayes: 0.893758, (0.000001)\n",
    "Decision_Tree: 0.050889, (0.000000)\n",
    "Bagged_Decision_Tree: 0.032321, (0.000000)\n",
    "Random_Forest: 0.044294, (0.000002)\n",
    "Boosted_Decision_Tree: 0.050956, (0.000000)\n",
    "Bagged_RG_DT: 0.227109, (0.000005)'''"
   ]
  },
  {
   "cell_type": "code",
   "execution_count": 26,
   "metadata": {
    "scrolled": true
   },
   "outputs": [
    {
     "name": "stdout",
     "output_type": "stream",
     "text": [
      "Naive_Bayes: 0.893396, (0.000001)\n",
      "Decision_Tree: 0.050856, (0.000000)\n",
      "Bagged_Decision_Tree: 0.032333, (0.000000)\n",
      "Random_Forest: 0.044287, (0.000002)\n",
      "Boosted_Decision_Tree: 0.050925, (0.000000)\n",
      "Bagged_RG_DT: 0.227110, (0.000005)\n"
     ]
    },
    {
     "data": {
      "image/png": "[encoded data removed]",
      "text/plain": [
       "<Figure size 432x288 with 1 Axes>"
      ]
     },
     "metadata": {
      "needs_background": "light"
     },
     "output_type": "display_data"
    }
   ],
   "source": [
    "modelis(X, method = 'minmax', fold= 'kf')\n",
    "'''Naive_Bayes: 0.893758, (0.000001)\n",
    "Decision_Tree: 0.050889, (0.000000)\n",
    "Bagged_Decision_Tree: 0.032321, (0.000000)\n",
    "Random_Forest: 0.044294, (0.000002)\n",
    "Boosted_Decision_Tree: 0.050956, (0.000000)\n",
    "Bagged_RG_DT: 0.227109, (0.000005)'''"
   ]
  },
  {
   "cell_type": "markdown",
   "metadata": {},
   "source": [
    "## Base Model"
   ]
  },
  {
   "cell_type": "code",
   "execution_count": 27,
   "metadata": {},
   "outputs": [
    {
     "name": "stdout",
     "output_type": "stream",
     "text": [
      "Naive_Bayes: 0.893098, (0.000001)\n",
      "Decision_Tree: 0.051120, (0.000001)\n",
      "Bagged_Decision_Tree: 0.031982, (0.000001)\n",
      "Random_Forest: 0.044753, (0.000001)\n",
      "Boosted_Decision_Tree: 0.050997, (0.000001)\n",
      "Bagged_RG_DT: 0.225795, (0.000008)\n"
     ]
    },
    {
     "data": {
      "image/png": "[encoded data removed]",
      "text/plain": [
       "<Figure size 432x288 with 1 Axes>"
      ]
     },
     "metadata": {
      "needs_background": "light"
     },
     "output_type": "display_data"
    }
   ],
   "source": [
    "modelis(X, method = 'minmax', fold= 'skf')\n",
    "'''Naive_Bayes: 0.893758, (0.000001)\n",
    "Decision_Tree: 0.050889, (0.000000)\n",
    "Bagged_Decision_Tree: 0.032321, (0.000000)\n",
    "Random_Forest: 0.044294, (0.000002)\n",
    "Boosted_Decision_Tree: 0.050956, (0.000000)\n",
    "Bagged_RG_DT: 0.227109, (0.000005)'''"
   ]
  },
  {
   "cell_type": "code",
   "execution_count": 28,
   "metadata": {},
   "outputs": [
    {
     "name": "stdout",
     "output_type": "stream",
     "text": [
      "Naive_Bayes: 0.893758, (0.000001)\n",
      "Decision_Tree: 0.050866, (0.000000)\n",
      "Bagged_Decision_Tree: 0.032328, (0.000000)\n",
      "Random_Forest: 0.044407, (0.000002)\n",
      "Boosted_Decision_Tree: 0.050989, (0.000000)\n",
      "Bagged_RG_DT: 0.227111, (0.000005)\n"
     ]
    },
    {
     "data": {
      "image/png": "[encoded data removed]",
      "text/plain": [
       "<Figure size 432x288 with 1 Axes>"
      ]
     },
     "metadata": {
      "needs_background": "light"
     },
     "output_type": "display_data"
    }
   ],
   "source": [
    "modelis(X, method = 'power', fold= 'kf')\n",
    "'''Naive_Bayes: 0.893758, (0.000001)\n",
    "Decision_Tree: 0.050889, (0.000000)\n",
    "Bagged_Decision_Tree: 0.032321, (0.000000)\n",
    "Random_Forest: 0.044294, (0.000002)\n",
    "Boosted_Decision_Tree: 0.050956, (0.000000)\n",
    "Bagged_RG_DT: 0.227109, (0.000005)'''"
   ]
  },
  {
   "cell_type": "code",
   "execution_count": 29,
   "metadata": {},
   "outputs": [
    {
     "name": "stdout",
     "output_type": "stream",
     "text": [
      "Naive_Bayes: 0.893760, (0.000001)\n",
      "Decision_Tree: 0.051158, (0.000001)\n",
      "Bagged_Decision_Tree: 0.031959, (0.000001)\n",
      "Random_Forest: 0.044682, (0.000001)\n",
      "Boosted_Decision_Tree: 0.050984, (0.000001)\n",
      "Bagged_RG_DT: 0.225790, (0.000008)\n"
     ]
    },
    {
     "data": {
      "image/png": "[encoded data removed]",
      "text/plain": [
       "<Figure size 432x288 with 1 Axes>"
      ]
     },
     "metadata": {
      "needs_background": "light"
     },
     "output_type": "display_data"
    }
   ],
   "source": [
    "modelis(X, method = 'power', fold= 'skf')\n",
    "'''Naive_Bayes: 0.893758, (0.000001)\n",
    "Decision_Tree: 0.050889, (0.000000)\n",
    "Bagged_Decision_Tree: 0.032321, (0.000000)\n",
    "Random_Forest: 0.044294, (0.000002)\n",
    "Boosted_Decision_Tree: 0.050956, (0.000000)\n",
    "Bagged_RG_DT: 0.227109, (0.000005)'''"
   ]
  },
  {
   "cell_type": "markdown",
   "metadata": {},
   "source": [
    "#### Naive Bayes being the most underperforming model over here. Since, it is based on the Assumption that all features are independent which in our case is certainly not.\n",
    "\n",
    "#### We aren't using Logistic Regression over here. Since, less than  50-60% of all combinations in the correlation matrix are highly correlated i.e. greater than 0.5"
   ]
  },
  {
   "cell_type": "markdown",
   "metadata": {},
   "source": [
    "### MinMax Scaler + Stratified K - Fold will be used as the Base Model for our Analysis"
   ]
  },
  {
   "cell_type": "code",
   "execution_count": 38,
   "metadata": {},
   "outputs": [],
   "source": [
    "def modelis2(data, method, fold):\n",
    "    dummy_feat = pd.get_dummies(data, drop_first=True)\n",
    "    X = dummy_feat.drop(columns='Forest_Cover_Type_designation')\n",
    "    y = dummy_feat['Forest_Cover_Type_designation']\n",
    "    modelis(X, method, fold)"
   ]
  },
  {
   "cell_type": "code",
   "execution_count": 39,
   "metadata": {},
   "outputs": [],
   "source": [
    "def rf_imp(df_add_subt,i):\n",
    "    dummy_feat = pd.get_dummies(df_add_subt, drop_first=True)\n",
    "    X = dummy_feat.drop(columns=['Forest_Cover_Type_designation'])\n",
    "    y = dummy_feat['Forest_Cover_Type_designation']\n",
    "\n",
    "    sc= StandardScaler()\n",
    "\n",
    "    X_train, X_test, y_train, y_test = train_test_split(X, y, test_size = 0.2, random_state = 123)\n",
    "\n",
    "    X_train_std = pd.DataFrame(sc.fit_transform(X_train), columns = X_train.columns)\n",
    "    X_test_std = pd.DataFrame(sc.transform(X_test), columns = X_test.columns)\n",
    "\n",
    "    rf = RandomForestClassifier(random_state = 0)\n",
    "    model_1 = rf.fit(X_train_std, y_train)\n",
    "    pd.DataFrame(rf.feature_importances_, index = X_train.columns)[0].sort_values(ascending=False)[:i].plot(kind='barh')"
   ]
  },
  {
   "cell_type": "markdown",
   "metadata": {},
   "source": [
    "# Outlier Treatment"
   ]
  },
  {
   "cell_type": "markdown",
   "metadata": {},
   "source": [
    "## Analyzing Outlier Treatment Techniques through Modeling Results\n",
    "\n",
    "### Quantile Cut"
   ]
  },
  {
   "cell_type": "code",
   "execution_count": 69,
   "metadata": {
    "scrolled": false
   },
   "outputs": [
    {
     "name": "stdout",
     "output_type": "stream",
     "text": [
      "Naive_Bayes: 0.743390, (0.000211)\n",
      "Decision_Tree: 0.055797, (0.000000)\n",
      "Bagged_Decision_Tree: 0.037779, (0.000000)\n",
      "Random_Forest: 0.051335, (0.000000)\n",
      "Boosted_Decision_Tree: 0.056200, (0.000000)\n",
      "Bagged_RG_DT: 0.240116, (0.000003)\n"
     ]
    },
    {
     "data": {
      "image/png": "[encoded data removed]",
      "text/plain": [
       "<Figure size 432x288 with 1 Axes>"
      ]
     },
     "metadata": {
      "needs_background": "light"
     },
     "output_type": "display_data"
    }
   ],
   "source": [
    "trans_data=df.copy()\n",
    "trans_data.Elevation=pd.qcut(trans_data.Elevation,q=7)\n",
    "modelis2(trans_data, 'minmax', 'skf')\n",
    "'''\n",
    "Base Model:\n",
    "Naive_Bayes: 0.893098, (0.000001)\n",
    "Decision_Tree: 0.051120, (0.000001)\n",
    "Bagged_Decision_Tree: 0.031982, (0.000001)\n",
    "Random_Forest: 0.044753, (0.000001)\n",
    "Boosted_Decision_Tree: 0.050997, (0.000001)\n",
    "Bagged_RG_DT: 0.225795, (0.000008)'''"
   ]
  },
  {
   "cell_type": "markdown",
   "metadata": {},
   "source": [
    "### Log Transform on Elevation"
   ]
  },
  {
   "cell_type": "code",
   "execution_count": 75,
   "metadata": {},
   "outputs": [
    {
     "name": "stdout",
     "output_type": "stream",
     "text": [
      "Naive_Bayes: 0.892631, (0.000001)\n",
      "Decision_Tree: 0.051104, (0.000001)\n",
      "Bagged_Decision_Tree: 0.031981, (0.000001)\n",
      "Random_Forest: 0.044793, (0.000001)\n",
      "Boosted_Decision_Tree: 0.050995, (0.000001)\n",
      "Bagged_RG_DT: 0.225795, (0.000008)\n"
     ]
    },
    {
     "data": {
      "image/png": "[encoded data removed]",
      "text/plain": [
       "<Figure size 432x288 with 1 Axes>"
      ]
     },
     "metadata": {
      "needs_background": "light"
     },
     "output_type": "display_data"
    }
   ],
   "source": [
    "bun_data=df.copy()\n",
    "\n",
    "bun_data['Elevation'] = np.log1p(bun_data['Elevation'])\n",
    "modelis2(bun_data, 'minmax', 'skf')\n",
    "'''\n",
    "Base Model:\n",
    "Naive_Bayes: 0.893098, (0.000001)\n",
    "Decision_Tree: 0.051120, (0.000001)\n",
    "Bagged_Decision_Tree: 0.031982, (0.000001)\n",
    "Random_Forest: 0.044753, (0.000001)\n",
    "Boosted_Decision_Tree: 0.050997, (0.000001)\n",
    "Bagged_RG_DT: 0.225795, (0.000008)'''"
   ]
  },
  {
   "cell_type": "markdown",
   "metadata": {},
   "source": [
    "# Sensitivity Analysis"
   ]
  },
  {
   "cell_type": "markdown",
   "metadata": {},
   "source": [
    "Firstly, we have felt that the columns Soil_types either requires `Generalization` or it needs to be `dropped out` of our analysis.\n",
    "\n",
    "So, we have chosen to drop `Soil_types` as our first step and then we will be checking the impact of it towards modeling predictions"
   ]
  },
  {
   "cell_type": "code",
   "execution_count": 30,
   "metadata": {
    "colab": {},
    "colab_type": "code",
    "id": "xvOmho_GLniQ"
   },
   "outputs": [],
   "source": [
    "df_w_soil = df.drop(columns = 'Soil_types')"
   ]
  },
  {
   "cell_type": "code",
   "execution_count": 31,
   "metadata": {},
   "outputs": [],
   "source": [
    "dummy_w_soil = pd.get_dummies(df_w_soil, drop_first=True)"
   ]
  },
  {
   "cell_type": "code",
   "execution_count": 32,
   "metadata": {},
   "outputs": [
    {
     "data": {
      "text/plain": [
       "(551405, 14)"
      ]
     },
     "execution_count": 32,
     "metadata": {},
     "output_type": "execute_result"
    }
   ],
   "source": [
    "dummy_w_soil.shape"
   ]
  },
  {
   "cell_type": "code",
   "execution_count": 33,
   "metadata": {},
   "outputs": [
    {
     "data": {
      "text/plain": [
       "Index(['Elevation', 'Aspect', 'Slope', 'Horizontal_Distance_To_Hydrology',\n",
       "       'Vertical_Distance_To_Hydrology', 'Horizontal_Distance_To_Roadways',\n",
       "       'Hillshade_9am', 'Hillshade_Noon', 'Hillshade_3pm',\n",
       "       'Horizontal_Distance_To_Fire_Points', 'Forest_Cover_Type_designation',\n",
       "       'Winderness_types_Wilderness_Area_2',\n",
       "       'Winderness_types_Wilderness_Area_3',\n",
       "       'Winderness_types_Wilderness_Area_4'],\n",
       "      dtype='object')"
      ]
     },
     "execution_count": 33,
     "metadata": {},
     "output_type": "execute_result"
    }
   ],
   "source": [
    "dummy_w_soil.columns"
   ]
  },
  {
   "cell_type": "code",
   "execution_count": 34,
   "metadata": {},
   "outputs": [],
   "source": [
    "X = dummy_w_soil.drop(columns='Forest_Cover_Type_designation')\n",
    "y = dummy_w_soil['Forest_Cover_Type_designation']\n"
   ]
  },
  {
   "cell_type": "code",
   "execution_count": 35,
   "metadata": {},
   "outputs": [
    {
     "name": "stdout",
     "output_type": "stream",
     "text": [
      "Naive_Bayes: 0.723627, (0.000000)\n",
      "Decision_Tree: 0.061001, (0.000001)\n",
      "Bagged_Decision_Tree: 0.036646, (0.000001)\n",
      "Random_Forest: 0.045877, (0.000001)\n",
      "Boosted_Decision_Tree: 0.060924, (0.000001)\n",
      "Bagged_RG_DT: 0.234422, (0.000002)\n"
     ]
    },
    {
     "data": {
      "image/png": "[encoded data removed]",
      "text/plain": [
       "<Figure size 432x288 with 1 Axes>"
      ]
     },
     "metadata": {
      "needs_background": "light"
     },
     "output_type": "display_data"
    }
   ],
   "source": [
    "modelis(X, 'minmax', 'skf')\n",
    "'''\n",
    "Base Model:\n",
    "Naive_Bayes: 0.893098, (0.000001)\n",
    "Decision_Tree: 0.051120, (0.000001)\n",
    "Bagged_Decision_Tree: 0.031982, (0.000001)\n",
    "Random_Forest: 0.044753, (0.000001)\n",
    "Boosted_Decision_Tree: 0.050997, (0.000001)\n",
    "Bagged_RG_DT: 0.225795, (0.000008)'''"
   ]
  },
  {
   "cell_type": "markdown",
   "metadata": {},
   "source": [
    "Hence, by dropping the variable means dropping some important intelligence as none of the models are performing better than the base modelling.\n",
    "\n",
    "The model still being Naive Bayes."
   ]
  },
  {
   "cell_type": "markdown",
   "metadata": {},
   "source": [
    "#### Therefore, dropping Soil Types was a bad decision. Hence, we will try to Generalize this column in further experiments."
   ]
  },
  {
   "cell_type": "markdown",
   "metadata": {},
   "source": [
    "# Feature Engineering"
   ]
  },
  {
   "cell_type": "markdown",
   "metadata": {},
   "source": [
    "For now, we will be using the basic concept of Pythogoras theorem upon Vertical & Horizontal Distance to Hydrology to create a new feature `'Shortest_Distance_to_Hydrology'`"
   ]
  },
  {
   "cell_type": "code",
   "execution_count": 36,
   "metadata": {},
   "outputs": [],
   "source": [
    "df_feat = df.copy()"
   ]
  },
  {
   "cell_type": "code",
   "execution_count": 37,
   "metadata": {},
   "outputs": [],
   "source": [
    "df_feat['Shortest_Distance_to_Hydrology'] = np.sqrt(df['Horizontal_Distance_To_Hydrology']**2 + df['Vertical_Distance_To_Hydrology']**2)"
   ]
  },
  {
   "cell_type": "code",
   "execution_count": 40,
   "metadata": {},
   "outputs": [
    {
     "name": "stdout",
     "output_type": "stream",
     "text": [
      "Naive_Bayes: 0.893091, (0.000001)\n",
      "Decision_Tree: 0.051961, (0.000001)\n",
      "Bagged_Decision_Tree: 0.032215, (0.000001)\n",
      "Random_Forest: 0.044580, (0.000001)\n",
      "Boosted_Decision_Tree: 0.051911, (0.000001)\n",
      "Bagged_RG_DT: 0.225990, (0.000009)\n"
     ]
    },
    {
     "data": {
      "image/png": "[encoded data removed]",
      "text/plain": [
       "<Figure size 432x288 with 1 Axes>"
      ]
     },
     "metadata": {
      "needs_background": "light"
     },
     "output_type": "display_data"
    },
    {
     "data": {
      "text/plain": [
       "'\\nBase Model:\\nNaive_Bayes: 0.945166, (0.000002)\\nDecision_Tree: 0.061312, (0.000001)\\nBagged_Decision_Tree: 0.038633, (0.000000)\\nRandom_Forest: 0.055196, (0.000000)\\nBoosted_Decision_Tree: 0.061160, (0.000000)\\nBagged_RG_DT: 0.276366, (0.000006)'"
      ]
     },
     "execution_count": 40,
     "metadata": {},
     "output_type": "execute_result"
    }
   ],
   "source": [
    "modelis2(df_feat, 'minmax', 'skf')\n",
    "\n",
    "'''\n",
    "Base Model:\n",
    "Naive_Bayes: 0.893098, (0.000001)\n",
    "Decision_Tree: 0.051120, (0.000001)\n",
    "Bagged_Decision_Tree: 0.031982, (0.000001)\n",
    "Random_Forest: 0.044753, (0.000001)\n",
    "Boosted_Decision_Tree: 0.050997, (0.000001)\n",
    "Bagged_RG_DT: 0.225795, (0.000008)'''"
   ]
  },
  {
   "cell_type": "code",
   "execution_count": 41,
   "metadata": {},
   "outputs": [
    {
     "data": {
      "image/png": "[encoded data removed]",
      "text/plain": [
       "<Figure size 432x288 with 1 Axes>"
      ]
     },
     "metadata": {
      "needs_background": "light"
     },
     "output_type": "display_data"
    }
   ],
   "source": [
    "rf_imp(df_feat,10)"
   ]
  },
  {
   "cell_type": "markdown",
   "metadata": {},
   "source": [
    "#### Naive Bayes continues to dissappoint in the predictions. The Bagged Decision Tree is a clear winner still.\n",
    "\n",
    "The overall effect of this new feature doesn't actually make a difference in our analysis"
   ]
  },
  {
   "cell_type": "markdown",
   "metadata": {},
   "source": [
    "Lets make another feature taking the means of all the 3 Hillshade index columns. Since, they are representing similar characteristics"
   ]
  },
  {
   "cell_type": "code",
   "execution_count": 42,
   "metadata": {},
   "outputs": [
    {
     "data": {
      "text/plain": [
       "Index(['Elevation', 'Aspect', 'Slope', 'Horizontal_Distance_To_Hydrology',\n",
       "       'Vertical_Distance_To_Hydrology', 'Horizontal_Distance_To_Roadways',\n",
       "       'Hillshade_9am', 'Hillshade_Noon', 'Hillshade_3pm',\n",
       "       'Horizontal_Distance_To_Fire_Points', 'Forest_Cover_Type_designation',\n",
       "       'Soil_types', 'Winderness_types', 'Hillshade_mean'],\n",
       "      dtype='object')"
      ]
     },
     "execution_count": 42,
     "metadata": {},
     "output_type": "execute_result"
    }
   ],
   "source": [
    "df_hill_mean = df.copy()\n",
    "df_hill_mean['Hillshade_mean'] = round((df['Hillshade_9am'] + df['Hillshade_Noon'] + df['Hillshade_3pm'])/3,2)\n",
    "df_hill_mean.columns\n"
   ]
  },
  {
   "cell_type": "code",
   "execution_count": 43,
   "metadata": {},
   "outputs": [
    {
     "data": {
      "text/html": [
       "<div>\n",
       "<style scoped>\n",
       "    .dataframe tbody tr th:only-of-type {\n",
       "        vertical-align: middle;\n",
       "    }\n",
       "\n",
       "    .dataframe tbody tr th {\n",
       "        vertical-align: top;\n",
       "    }\n",
       "\n",
       "    .dataframe thead th {\n",
       "        text-align: right;\n",
       "    }\n",
       "</style>\n",
       "<table border=\"1\" class=\"dataframe\">\n",
       "  <thead>\n",
       "    <tr style=\"text-align: right;\">\n",
       "      <th></th>\n",
       "      <th>Elevation</th>\n",
       "      <th>Aspect</th>\n",
       "      <th>Slope</th>\n",
       "      <th>Horizontal_Distance_To_Hydrology</th>\n",
       "      <th>Vertical_Distance_To_Hydrology</th>\n",
       "      <th>Horizontal_Distance_To_Roadways</th>\n",
       "      <th>Hillshade_9am</th>\n",
       "      <th>Hillshade_Noon</th>\n",
       "      <th>Hillshade_3pm</th>\n",
       "      <th>Horizontal_Distance_To_Fire_Points</th>\n",
       "      <th>Forest_Cover_Type_designation</th>\n",
       "      <th>Soil_types</th>\n",
       "      <th>Winderness_types</th>\n",
       "      <th>Hillshade_mean</th>\n",
       "    </tr>\n",
       "  </thead>\n",
       "  <tbody>\n",
       "    <tr>\n",
       "      <td>2</td>\n",
       "      <td>2804</td>\n",
       "      <td>139</td>\n",
       "      <td>9</td>\n",
       "      <td>268</td>\n",
       "      <td>65</td>\n",
       "      <td>3180</td>\n",
       "      <td>234</td>\n",
       "      <td>238</td>\n",
       "      <td>135</td>\n",
       "      <td>6121</td>\n",
       "      <td>2</td>\n",
       "      <td>Soil_Type_12</td>\n",
       "      <td>Wilderness_Area_1</td>\n",
       "      <td>202.33</td>\n",
       "    </tr>\n",
       "    <tr>\n",
       "      <td>3</td>\n",
       "      <td>2785</td>\n",
       "      <td>155</td>\n",
       "      <td>18</td>\n",
       "      <td>242</td>\n",
       "      <td>118</td>\n",
       "      <td>3090</td>\n",
       "      <td>238</td>\n",
       "      <td>238</td>\n",
       "      <td>122</td>\n",
       "      <td>6211</td>\n",
       "      <td>2</td>\n",
       "      <td>Soil_Type_30</td>\n",
       "      <td>Wilderness_Area_1</td>\n",
       "      <td>199.33</td>\n",
       "    </tr>\n",
       "    <tr>\n",
       "      <td>5</td>\n",
       "      <td>2579</td>\n",
       "      <td>132</td>\n",
       "      <td>6</td>\n",
       "      <td>300</td>\n",
       "      <td>-15</td>\n",
       "      <td>67</td>\n",
       "      <td>230</td>\n",
       "      <td>237</td>\n",
       "      <td>140</td>\n",
       "      <td>6031</td>\n",
       "      <td>2</td>\n",
       "      <td>Soil_Type_29</td>\n",
       "      <td>Wilderness_Area_1</td>\n",
       "      <td>202.33</td>\n",
       "    </tr>\n",
       "    <tr>\n",
       "      <td>11</td>\n",
       "      <td>2886</td>\n",
       "      <td>151</td>\n",
       "      <td>11</td>\n",
       "      <td>371</td>\n",
       "      <td>26</td>\n",
       "      <td>5253</td>\n",
       "      <td>234</td>\n",
       "      <td>240</td>\n",
       "      <td>136</td>\n",
       "      <td>4051</td>\n",
       "      <td>2</td>\n",
       "      <td>Soil_Type_30</td>\n",
       "      <td>Wilderness_Area_1</td>\n",
       "      <td>203.33</td>\n",
       "    </tr>\n",
       "    <tr>\n",
       "      <td>12</td>\n",
       "      <td>2742</td>\n",
       "      <td>134</td>\n",
       "      <td>22</td>\n",
       "      <td>150</td>\n",
       "      <td>69</td>\n",
       "      <td>3215</td>\n",
       "      <td>248</td>\n",
       "      <td>224</td>\n",
       "      <td>92</td>\n",
       "      <td>6091</td>\n",
       "      <td>2</td>\n",
       "      <td>Soil_Type_30</td>\n",
       "      <td>Wilderness_Area_1</td>\n",
       "      <td>188.00</td>\n",
       "    </tr>\n",
       "  </tbody>\n",
       "</table>\n",
       "</div>"
      ],
      "text/plain": [
       "    Elevation  Aspect  Slope  Horizontal_Distance_To_Hydrology  \\\n",
       "2        2804     139      9                               268   \n",
       "3        2785     155     18                               242   \n",
       "5        2579     132      6                               300   \n",
       "11       2886     151     11                               371   \n",
       "12       2742     134     22                               150   \n",
       "\n",
       "    Vertical_Distance_To_Hydrology  Horizontal_Distance_To_Roadways  \\\n",
       "2                               65                             3180   \n",
       "3                              118                             3090   \n",
       "5                              -15                               67   \n",
       "11                              26                             5253   \n",
       "12                              69                             3215   \n",
       "\n",
       "    Hillshade_9am  Hillshade_Noon  Hillshade_3pm  \\\n",
       "2             234             238            135   \n",
       "3             238             238            122   \n",
       "5             230             237            140   \n",
       "11            234             240            136   \n",
       "12            248             224             92   \n",
       "\n",
       "    Horizontal_Distance_To_Fire_Points  Forest_Cover_Type_designation  \\\n",
       "2                                 6121                              2   \n",
       "3                                 6211                              2   \n",
       "5                                 6031                              2   \n",
       "11                                4051                              2   \n",
       "12                                6091                              2   \n",
       "\n",
       "      Soil_types   Winderness_types  Hillshade_mean  \n",
       "2   Soil_Type_12  Wilderness_Area_1          202.33  \n",
       "3   Soil_Type_30  Wilderness_Area_1          199.33  \n",
       "5   Soil_Type_29  Wilderness_Area_1          202.33  \n",
       "11  Soil_Type_30  Wilderness_Area_1          203.33  \n",
       "12  Soil_Type_30  Wilderness_Area_1          188.00  "
      ]
     },
     "execution_count": 43,
     "metadata": {},
     "output_type": "execute_result"
    }
   ],
   "source": [
    "df_hill_mean.head()"
   ]
  },
  {
   "cell_type": "code",
   "execution_count": 44,
   "metadata": {},
   "outputs": [
    {
     "name": "stdout",
     "output_type": "stream",
     "text": [
      "Naive_Bayes: 0.893176, (0.000000)\n",
      "Decision_Tree: 0.051589, (0.000001)\n",
      "Bagged_Decision_Tree: 0.032510, (0.000000)\n",
      "Random_Forest: 0.047703, (0.000000)\n",
      "Boosted_Decision_Tree: 0.051596, (0.000001)\n",
      "Bagged_RG_DT: 0.225798, (0.000008)\n"
     ]
    },
    {
     "data": {
      "image/png": "[encoded data removed]",
      "text/plain": [
       "<Figure size 432x288 with 1 Axes>"
      ]
     },
     "metadata": {
      "needs_background": "light"
     },
     "output_type": "display_data"
    },
    {
     "data": {
      "text/plain": [
       "'\\nBase Model:\\nNaive_Bayes: 0.945166, (0.000002)\\nDecision_Tree: 0.061312, (0.000001)\\nBagged_Decision_Tree: 0.038633, (0.000000)\\nRandom_Forest: 0.055196, (0.000000)\\nBoosted_Decision_Tree: 0.061160, (0.000000)\\nBagged_RG_DT: 0.276366, (0.000006)'"
      ]
     },
     "execution_count": 44,
     "metadata": {},
     "output_type": "execute_result"
    }
   ],
   "source": [
    "modelis2(df_hill_mean, 'minmax', 'skf')\n",
    "\n",
    "'''\n",
    "Base Model:\n",
    "Naive_Bayes: 0.893098, (0.000001)\n",
    "Decision_Tree: 0.051120, (0.000001)\n",
    "Bagged_Decision_Tree: 0.031982, (0.000001)\n",
    "Random_Forest: 0.044753, (0.000001)\n",
    "Boosted_Decision_Tree: 0.050997, (0.000001)\n",
    "Bagged_RG_DT: 0.225795, (0.000008)'''"
   ]
  },
  {
   "cell_type": "code",
   "execution_count": 45,
   "metadata": {},
   "outputs": [
    {
     "data": {
      "image/png": "[encoded data removed]",
      "text/plain": [
       "<Figure size 432x288 with 1 Axes>"
      ]
     },
     "metadata": {
      "needs_background": "light"
     },
     "output_type": "display_data"
    }
   ],
   "source": [
    "rf_imp(df_hill_mean,10)"
   ]
  },
  {
   "cell_type": "markdown",
   "metadata": {},
   "source": [
    "##### Even after adding this feature we find no real improvement in our calculations as per the results of the base model"
   ]
  },
  {
   "cell_type": "markdown",
   "metadata": {},
   "source": [
    "# Feature Engineering from Domain Knowledge"
   ]
  },
  {
   "cell_type": "markdown",
   "metadata": {},
   "source": [
    "### Hillshade Algorithm\n",
    "\n",
    "As per the Hillshade Algorithm, features like Slope should be transformed to radians first and then take its `cosine` as well `sine` components as new features for our analysis\n",
    "\n",
    "Hillshade = 255.0 * ((cos(Zenith_rad) * cos(Slope_rad)) +\n",
    "                 (sin(Zenith_rad) * sin(Slope_rad) * cos(Azimuth_rad - Aspect_rad)))\n",
    "\n",
    "Reference: https://pro.arcgis.com/en/pro-app/tool-reference/3d-analyst/how-hillshade-works.htm"
   ]
  },
  {
   "cell_type": "code",
   "execution_count": 46,
   "metadata": {},
   "outputs": [],
   "source": [
    "df_sin_cos = df.copy()"
   ]
  },
  {
   "cell_type": "code",
   "execution_count": 47,
   "metadata": {},
   "outputs": [],
   "source": [
    "import math\n",
    "df_sin_cos['Slope_rad'] = (math.pi/180)*(df_sin_cos['Slope'])"
   ]
  },
  {
   "cell_type": "code",
   "execution_count": 48,
   "metadata": {},
   "outputs": [],
   "source": [
    "df_sin_cos['Slope_rad_sin'] = np.sin(df_sin_cos['Slope_rad'])\n",
    "df_sin_cos['Slope_rad_cos'] = np.cos(df_sin_cos['Slope_rad'])"
   ]
  },
  {
   "cell_type": "code",
   "execution_count": 49,
   "metadata": {},
   "outputs": [
    {
     "data": {
      "text/plain": [
       "<matplotlib.axes._subplots.AxesSubplot at 0x1a1d5cd710>"
      ]
     },
     "execution_count": 49,
     "metadata": {},
     "output_type": "execute_result"
    },
    {
     "data": {
      "image/png": "[encoded data removed]",
      "text/plain": [
       "<Figure size 432x288 with 1 Axes>"
      ]
     },
     "metadata": {
      "needs_background": "light"
     },
     "output_type": "display_data"
    }
   ],
   "source": [
    "sns.boxplot(df_sin_cos['Slope_rad_sin'])"
   ]
  },
  {
   "cell_type": "code",
   "execution_count": 50,
   "metadata": {},
   "outputs": [
    {
     "name": "stdout",
     "output_type": "stream",
     "text": [
      "Naive_Bayes: 0.889699, (0.000002)\n",
      "Decision_Tree: 0.051139, (0.000001)\n",
      "Bagged_Decision_Tree: 0.032098, (0.000001)\n",
      "Random_Forest: 0.053805, (0.000000)\n",
      "Boosted_Decision_Tree: 0.051200, (0.000001)\n",
      "Bagged_RG_DT: 0.225807, (0.000008)\n"
     ]
    },
    {
     "data": {
      "image/png": "[encoded data removed]",
      "text/plain": [
       "<Figure size 432x288 with 1 Axes>"
      ]
     },
     "metadata": {
      "needs_background": "light"
     },
     "output_type": "display_data"
    },
    {
     "data": {
      "text/plain": [
       "'\\nBase Model:\\nNaive_Bayes: 0.945166, (0.000002)\\nDecision_Tree: 0.061312, (0.000001)\\nBagged_Decision_Tree: 0.038633, (0.000000)\\nRandom_Forest: 0.055196, (0.000000)\\nBoosted_Decision_Tree: 0.061160, (0.000000)\\nBagged_RG_DT: 0.276366, (0.000006)'"
      ]
     },
     "execution_count": 50,
     "metadata": {},
     "output_type": "execute_result"
    }
   ],
   "source": [
    "modelis2(df_sin_cos, 'minmax', 'skf')\n",
    "'''\n",
    "Base Model:\n",
    "Naive_Bayes: 0.893098, (0.000001)\n",
    "Decision_Tree: 0.051120, (0.000001)\n",
    "Bagged_Decision_Tree: 0.031982, (0.000001)\n",
    "Random_Forest: 0.044753, (0.000001)\n",
    "Boosted_Decision_Tree: 0.050997, (0.000001)\n",
    "Bagged_RG_DT: 0.225795, (0.000008)'''"
   ]
  },
  {
   "cell_type": "code",
   "execution_count": 51,
   "metadata": {},
   "outputs": [
    {
     "data": {
      "image/png": "[encoded data removed]",
      "text/plain": [
       "<Figure size 432x288 with 1 Axes>"
      ]
     },
     "metadata": {
      "needs_background": "light"
     },
     "output_type": "display_data"
    }
   ],
   "source": [
    "rf_imp(df_sin_cos,15)"
   ]
  },
  {
   "cell_type": "markdown",
   "metadata": {},
   "source": [
    "##### In this particular case, it is clear that this feature engineering has improved the results for Naive Bayes & Decision Tree."
   ]
  },
  {
   "cell_type": "markdown",
   "metadata": {},
   "source": [
    "Overall, this feature engineering might turn out to be a better one as compared to the original model."
   ]
  },
  {
   "cell_type": "markdown",
   "metadata": {},
   "source": [
    "### Adding & Subtracting Distance Features."
   ]
  },
  {
   "cell_type": "markdown",
   "metadata": {},
   "source": [
    "We can form some more features by `adding and subtracting various distances` in order to extract better intelligence as a whole.\n",
    "\n",
    "We will also be reworking Shortest distance Feature engineering for hydrology just for experimental purposes"
   ]
  },
  {
   "cell_type": "code",
   "execution_count": 52,
   "metadata": {},
   "outputs": [
    {
     "data": {
      "text/plain": [
       "Index(['Elevation', 'Aspect', 'Slope', 'Horizontal_Distance_To_Hydrology',\n",
       "       'Vertical_Distance_To_Hydrology', 'Horizontal_Distance_To_Roadways',\n",
       "       'Hillshade_9am', 'Hillshade_Noon', 'Hillshade_3pm',\n",
       "       'Horizontal_Distance_To_Fire_Points', 'Forest_Cover_Type_designation',\n",
       "       'Soil_types', 'Winderness_types'],\n",
       "      dtype='object')"
      ]
     },
     "execution_count": 52,
     "metadata": {},
     "output_type": "execute_result"
    }
   ],
   "source": [
    "df.columns"
   ]
  },
  {
   "cell_type": "code",
   "execution_count": 53,
   "metadata": {},
   "outputs": [],
   "source": [
    "df_add_subt = df.copy()\n",
    "df_add_subt['Road_p_Fire'] = df_add_subt['Horizontal_Distance_To_Roadways'] + df_add_subt['Horizontal_Distance_To_Fire_Points']\n",
    "df_add_subt['Road_s_Fire'] = df_add_subt['Horizontal_Distance_To_Roadways'] - df_add_subt['Horizontal_Distance_To_Fire_Points']\n",
    "df_add_subt['Hyd_s_Fire'] = df_add_subt['Horizontal_Distance_To_Hydrology'] - df_add_subt['Horizontal_Distance_To_Fire_Points']\n",
    "df_add_subt['Hyd_p_Fire'] = df_add_subt['Horizontal_Distance_To_Hydrology'] + df_add_subt['Horizontal_Distance_To_Fire_Points']\n",
    "df_add_subt['Hyd_p_Road'] = df_add_subt['Horizontal_Distance_To_Hydrology'] + df_add_subt['Horizontal_Distance_To_Roadways']\n",
    "df_add_subt['Hyd_s_Road'] = df_add_subt['Horizontal_Distance_To_Hydrology'] - df_add_subt['Horizontal_Distance_To_Roadways']\n",
    "df_add_subt['Shortest_Distance_to_Hydrology'] = np.sqrt(df['Horizontal_Distance_To_Hydrology']**2 + df['Vertical_Distance_To_Hydrology']**2)\n",
    "\n"
   ]
  },
  {
   "cell_type": "code",
   "execution_count": 54,
   "metadata": {},
   "outputs": [
    {
     "name": "stdout",
     "output_type": "stream",
     "text": [
      "Naive_Bayes: 0.888571, (0.000002)\n",
      "Decision_Tree: 0.043100, (0.000000)\n",
      "Bagged_Decision_Tree: 0.026166, (0.000001)\n",
      "Random_Forest: 0.025104, (0.000001)\n",
      "Boosted_Decision_Tree: 0.043275, (0.000001)\n",
      "Bagged_RG_DT: 0.225968, (0.000015)\n"
     ]
    },
    {
     "data": {
      "image/png": "[encoded data removed]",
      "text/plain": [
       "<Figure size 432x288 with 1 Axes>"
      ]
     },
     "metadata": {
      "needs_background": "light"
     },
     "output_type": "display_data"
    },
    {
     "data": {
      "text/plain": [
       "'\\nBase Model:\\nNaive_Bayes: 0.945166, (0.000002)\\nDecision_Tree: 0.061312, (0.000001)\\nBagged_Decision_Tree: 0.038633, (0.000000)\\nRandom_Forest: 0.055196, (0.000000)\\nBoosted_Decision_Tree: 0.061160, (0.000000)\\nBagged_RG_DT: 0.276366, (0.000006)'"
      ]
     },
     "execution_count": 54,
     "metadata": {},
     "output_type": "execute_result"
    }
   ],
   "source": [
    "modelis2(df_add_subt, 'minmax', 'skf')\n",
    "\n",
    "'''\n",
    "Base Model:\n",
    "Naive_Bayes: 0.893098, (0.000001)\n",
    "Decision_Tree: 0.051120, (0.000001)\n",
    "Bagged_Decision_Tree: 0.031982, (0.000001)\n",
    "Random_Forest: 0.044753, (0.000001)\n",
    "Boosted_Decision_Tree: 0.050997, (0.000001)\n",
    "Bagged_RG_DT: 0.225795, (0.000008)'''"
   ]
  },
  {
   "cell_type": "markdown",
   "metadata": {},
   "source": [
    "##### Except Naive Bayes, all other modelling techniques have shown great promise and considerable improvement in terms of modeling predictions."
   ]
  },
  {
   "cell_type": "markdown",
   "metadata": {},
   "source": [
    "Let's have a look at Random Forest's Feature Importance to see which features among all these performed the best."
   ]
  },
  {
   "cell_type": "code",
   "execution_count": 55,
   "metadata": {},
   "outputs": [
    {
     "data": {
      "image/png": "[encoded data removed]",
      "text/plain": [
       "<Figure size 432x288 with 1 Axes>"
      ]
     },
     "metadata": {
      "needs_background": "light"
     },
     "output_type": "display_data"
    }
   ],
   "source": [
    "rf_imp(df_add_subt,10)"
   ]
  },
  {
   "cell_type": "code",
   "execution_count": 56,
   "metadata": {},
   "outputs": [
    {
     "data": {
      "text/plain": [
       "Index(['Elevation', 'Aspect', 'Slope', 'Horizontal_Distance_To_Hydrology',\n",
       "       'Vertical_Distance_To_Hydrology', 'Horizontal_Distance_To_Roadways',\n",
       "       'Hillshade_9am', 'Hillshade_Noon', 'Hillshade_3pm',\n",
       "       'Horizontal_Distance_To_Fire_Points', 'Forest_Cover_Type_designation',\n",
       "       'Soil_types', 'Winderness_types'],\n",
       "      dtype='object')"
      ]
     },
     "execution_count": 56,
     "metadata": {},
     "output_type": "execute_result"
    }
   ],
   "source": [
    "df.columns"
   ]
  },
  {
   "cell_type": "markdown",
   "metadata": {},
   "source": [
    "### Exploring similar interaction between Hillshade Indexes"
   ]
  },
  {
   "cell_type": "markdown",
   "metadata": {},
   "source": [
    "Let's engineer some features both on the basis of addition, subtraction and multiplication upon Hill Shadow indexes measures at 3 times"
   ]
  },
  {
   "cell_type": "code",
   "execution_count": 57,
   "metadata": {},
   "outputs": [],
   "source": [
    "df_mul_sub_p = df.copy()\n",
    "df_mul_sub_p['Hillshade_9am_p_Noon'] = df['Hillshade_9am'] + df['Hillshade_Noon']\n",
    "df_mul_sub_p['Hillshade_3pm_p_Noon'] = df['Hillshade_3pm'] + df['Hillshade_Noon']\n",
    "df_mul_sub_p['Hillshade_9am_p_3pm'] = df['Hillshade_9am'] + df['Hillshade_3pm']\n",
    "df_mul_sub_p['Hillshade_9am_s_Noon'] = df['Hillshade_9am'] - df['Hillshade_Noon']\n",
    "df_mul_sub_p['Hillshade_3pm_s_Noon'] = df['Hillshade_Noon'] - df['Hillshade_3pm']\n",
    "df_mul_sub_p['Hillshade_9am_s_3pm'] = df['Hillshade_9am'] - df['Hillshade_3pm']\n",
    "df_mul_sub_p['Hillshade_9am_m_Noon'] = df['Hillshade_9am'] * df['Hillshade_Noon']\n",
    "df_mul_sub_p['Hillshade_3pm_m_Noon'] = df['Hillshade_Noon'] * df['Hillshade_3pm']\n",
    "df_mul_sub_p['Hillshade_9am_m_3pm'] = df['Hillshade_9am'] * df['Hillshade_3pm']"
   ]
  },
  {
   "cell_type": "code",
   "execution_count": 58,
   "metadata": {},
   "outputs": [
    {
     "name": "stdout",
     "output_type": "stream",
     "text": [
      "Naive_Bayes: 0.893051, (0.000001)\n",
      "Decision_Tree: 0.054367, (0.000001)\n",
      "Bagged_Decision_Tree: 0.033735, (0.000001)\n",
      "Random_Forest: 0.069138, (0.000005)\n",
      "Boosted_Decision_Tree: 0.053692, (0.000000)\n",
      "Bagged_RG_DT: 0.226651, (0.000004)\n"
     ]
    },
    {
     "data": {
      "image/png": "[encoded data removed]",
      "text/plain": [
       "<Figure size 432x288 with 1 Axes>"
      ]
     },
     "metadata": {
      "needs_background": "light"
     },
     "output_type": "display_data"
    },
    {
     "data": {
      "text/plain": [
       "'\\nBase Model:\\nNaive_Bayes: 0.945166, (0.000002)\\nDecision_Tree: 0.061312, (0.000001)\\nBagged_Decision_Tree: 0.038633, (0.000000)\\nRandom_Forest: 0.055196, (0.000000)\\nBoosted_Decision_Tree: 0.061160, (0.000000)\\nBagged_RG_DT: 0.276366, (0.000006)'"
      ]
     },
     "execution_count": 58,
     "metadata": {},
     "output_type": "execute_result"
    }
   ],
   "source": [
    "modelis2(df_mul_sub_p, 'minmax', 'skf')\n",
    "'''\n",
    "Base Model:\n",
    "Naive_Bayes: 0.893098, (0.000001)\n",
    "Decision_Tree: 0.051120, (0.000001)\n",
    "Bagged_Decision_Tree: 0.031982, (0.000001)\n",
    "Random_Forest: 0.044753, (0.000001)\n",
    "Boosted_Decision_Tree: 0.050997, (0.000001)\n",
    "Bagged_RG_DT: 0.225795, (0.000008)'''"
   ]
  },
  {
   "cell_type": "code",
   "execution_count": 59,
   "metadata": {},
   "outputs": [
    {
     "data": {
      "image/png": "[encoded data removed]",
      "text/plain": [
       "<Figure size 432x288 with 1 Axes>"
      ]
     },
     "metadata": {
      "needs_background": "light"
     },
     "output_type": "display_data"
    }
   ],
   "source": [
    "rf_imp(df_mul_sub_p,15)"
   ]
  },
  {
   "cell_type": "code",
   "execution_count": 60,
   "metadata": {},
   "outputs": [
    {
     "data": {
      "text/plain": [
       "Index(['Elevation', 'Aspect', 'Slope', 'Horizontal_Distance_To_Hydrology',\n",
       "       'Vertical_Distance_To_Hydrology', 'Horizontal_Distance_To_Roadways',\n",
       "       'Hillshade_9am', 'Hillshade_Noon', 'Hillshade_3pm',\n",
       "       'Horizontal_Distance_To_Fire_Points', 'Forest_Cover_Type_designation',\n",
       "       'Soil_types', 'Winderness_types', 'Hillshade_9am_p_Noon',\n",
       "       'Hillshade_3pm_p_Noon', 'Hillshade_9am_p_3pm', 'Hillshade_9am_s_Noon',\n",
       "       'Hillshade_3pm_s_Noon', 'Hillshade_9am_s_3pm', 'Hillshade_9am_m_Noon',\n",
       "       'Hillshade_3pm_m_Noon', 'Hillshade_9am_m_3pm'],\n",
       "      dtype='object')"
      ]
     },
     "execution_count": 60,
     "metadata": {},
     "output_type": "execute_result"
    }
   ],
   "source": [
    "df_mul_sub_p.columns"
   ]
  },
  {
   "cell_type": "markdown",
   "metadata": {},
   "source": [
    "#   Study Code USFS ELU Code\t\t\tDescription\n",
    "- 1\t   2702\t1\tCathedral family - Rock outcrop complex, extremely stony.\n",
    "- 2\t   2703\t2\tVanet - Ratake families complex, very stony.\n",
    "- 3\t   2704\t3\tHaploborolis - Rock outcrop complex, rubbly.\n",
    "- 4\t   2705\t4\tRatake family - Rock outcrop complex, rubbly.\n",
    "- 5\t   2706\t2\tVanet family - Rock outcrop complex complex, rubbly.\n",
    "- 6\t   2717\t2\tVanet - Wetmore families - Rock outcrop complex, stony.\n",
    "- 7\t   3501\t5\tGothic family.\n",
    "- 8\t   3502\t6\tSupervisor - Limber families complex.\n",
    "- 9\t   4201\t7\tTroutville family, very stony.\n",
    "- 10\t 4703  8\tBullwark - Catamount families - Rock outcrop complex, rubbly.\n",
    "- 11\t   4704\t8\tBullwark - Catamount families - Rock land complex, rubbly.\n",
    "- 12\t   4744\t9\tLegault family - Rock land complex, stony.\n",
    "- 13\t   4758\t10\tCatamount family - Rock land - Bullwark family complex, rubbly.\n",
    "- 14\t   5101\t11\tPachic Argiborolis - Aquolis complex.\n",
    "- 15\t   5151\t12\tunspecified in the USFS Soil and ELU Survey.\n",
    "- 16\t   6101\t13 \tCryaquolis - Cryoborolis complex.\n",
    "- 17\t   6102\t14\tGateview family - Cryaquolis complex.\n",
    "- 18\t   6731\t15\tRogert family, very stony.\n",
    "- 19\t   7101\t13\tTypic Cryaquolis - Borohemists complex.\n",
    "- 20\t   7102\t14\tTypic Cryaquepts - Typic Cryaquolls complex."
   ]
  },
  {
   "cell_type": "markdown",
   "metadata": {},
   "source": [
    "- 21\t   7103 15\t\tTypic Cryaquolls - Leighcan family, till substratum complex.\n",
    "- 22\t   7201\t16\tLeighcan family, till substratum, extremely bouldery.\n",
    "- 23\t   7202\t16\tLeighcan family, till substratum - Typic Cryaquolls complex.\n",
    "- 24\t   7700\t16\tLeighcan family, extremely stony.\n",
    "- 25\t   7701\t16\tLeighcan family, warm, extremely stony.\n",
    "- 26\t   7702\t17\tGranile - Catamount families complex, very stony.\n",
    "- 27\t   7709\t16\tLeighcan family, warm - Rock outcrop complex, extremely stony.\n",
    "- 28\t   7710\t16\tLeighcan family - Rock outcrop complex, extremely stony.\n",
    "- 29\t   7745\t18\tComo - Legault families complex, extremely stony.\n",
    "- 30\t   7746\t18\tComo family - Rock land - Legault family complex, extremely stony.\n",
    "- 31\t   7755\t16\tLeighcan - Catamount families complex, extremely stony.\n",
    "- 32\t   7756\t10\tCatamount family - Rock outcrop - Leighcan family complex, extremely stony.\n",
    "- 33\t   7757\t16\tLeighcan - Catamount families - Rock outcrop complex, extremely stony.\n",
    "- 34\t   7790\t19\tCryorthents - Rock land complex, extremely stony.\n",
    "- 35\t   8703\t20\tCryumbrepts - Rock outcrop - Cryaquepts complex.\n",
    "- 36\t   8707\t21\tBross family - Rock land - Cryumbrepts complex, extremely stony.\n",
    "- 37\t   8708\t20\tRock outcrop - Cryumbrepts - Cryorthents complex, extremely stony.\n",
    "- 38\t   8771\t16\tLeighcan - Moran families - Cryaquolls complex, extremely stony.\n",
    "- 39\t   8772\t19\tMoran family - Cryorthents - Leighcan family complex, extremely stony.\n",
    "- 40\t   8776\t19\tMoran family - Cryorthents - Rock land complex, extremely stony."
   ]
  },
  {
   "cell_type": "code",
   "execution_count": 61,
   "metadata": {
    "scrolled": true
   },
   "outputs": [
    {
     "data": {
      "text/html": [
       "<div>\n",
       "<style scoped>\n",
       "    .dataframe tbody tr th:only-of-type {\n",
       "        vertical-align: middle;\n",
       "    }\n",
       "\n",
       "    .dataframe tbody tr th {\n",
       "        vertical-align: top;\n",
       "    }\n",
       "\n",
       "    .dataframe thead th {\n",
       "        text-align: right;\n",
       "    }\n",
       "</style>\n",
       "<table border=\"1\" class=\"dataframe\">\n",
       "  <thead>\n",
       "    <tr style=\"text-align: right;\">\n",
       "      <th></th>\n",
       "      <th>Soil_types</th>\n",
       "      <th>Winderness_types</th>\n",
       "      <th>Forest_Cover_Type_designation</th>\n",
       "    </tr>\n",
       "  </thead>\n",
       "  <tbody>\n",
       "    <tr>\n",
       "      <td>2</td>\n",
       "      <td>4</td>\n",
       "      <td>1</td>\n",
       "      <td>2</td>\n",
       "    </tr>\n",
       "    <tr>\n",
       "      <td>3</td>\n",
       "      <td>23</td>\n",
       "      <td>1</td>\n",
       "      <td>2</td>\n",
       "    </tr>\n",
       "    <tr>\n",
       "      <td>5</td>\n",
       "      <td>21</td>\n",
       "      <td>1</td>\n",
       "      <td>2</td>\n",
       "    </tr>\n",
       "    <tr>\n",
       "      <td>11</td>\n",
       "      <td>23</td>\n",
       "      <td>1</td>\n",
       "      <td>2</td>\n",
       "    </tr>\n",
       "    <tr>\n",
       "      <td>12</td>\n",
       "      <td>23</td>\n",
       "      <td>1</td>\n",
       "      <td>2</td>\n",
       "    </tr>\n",
       "  </tbody>\n",
       "</table>\n",
       "</div>"
      ],
      "text/plain": [
       "    Soil_types  Winderness_types  Forest_Cover_Type_designation\n",
       "2            4                 1                              2\n",
       "3           23                 1                              2\n",
       "5           21                 1                              2\n",
       "11          23                 1                              2\n",
       "12          23                 1                              2"
      ]
     },
     "execution_count": 61,
     "metadata": {},
     "output_type": "execute_result"
    }
   ],
   "source": [
    "cat = df.select_dtypes(include='object')\n",
    "le = LabelEncoder()\n",
    "for i in cat.columns:\n",
    "    cat[i] = le.fit_transform(cat[i])+1\n",
    "cat['Forest_Cover_Type_designation'] = df['Forest_Cover_Type_designation']\n",
    "cat.head()"
   ]
  },
  {
   "cell_type": "code",
   "execution_count": 63,
   "metadata": {},
   "outputs": [
    {
     "data": {
      "text/plain": [
       "{3, 4, 5, 10, 11, 13}"
      ]
     },
     "execution_count": 63,
     "metadata": {},
     "output_type": "execute_result"
    }
   ],
   "source": [
    "stony = {1,2,6,9,12,18, 24,25,26,27,28,29,30,31,32,33,34,36,37,38,39,40}\n",
    "others = {7,8,14,15,16,17,19,20, 21, 22,23,35}\n",
    "rubble = {i for i in range(1,41)}-stony-others\n",
    "rubble"
   ]
  },
  {
   "cell_type": "code",
   "execution_count": 64,
   "metadata": {},
   "outputs": [],
   "source": [
    "cat['Soil_types_bin'] = cat['Soil_types'].apply(lambda x: 'rubble' if x in rubble else 'others' if x in others else 'stony')\n"
   ]
  },
  {
   "cell_type": "code",
   "execution_count": 65,
   "metadata": {},
   "outputs": [],
   "source": [
    "df_soil_bin = df.copy()\n",
    "df_soil_bin['Soil_types_bin'] = cat['Soil_types_bin']\n",
    "df_soil_bin.drop(columns='Soil_types', inplace = True)"
   ]
  },
  {
   "cell_type": "code",
   "execution_count": 66,
   "metadata": {},
   "outputs": [
    {
     "name": "stdout",
     "output_type": "stream",
     "text": [
      "Naive_Bayes: 0.631154, (0.000000)\n",
      "Decision_Tree: 0.058034, (0.000001)\n",
      "Bagged_Decision_Tree: 0.034942, (0.000001)\n",
      "Random_Forest: 0.046167, (0.000001)\n",
      "Boosted_Decision_Tree: 0.057824, (0.000001)\n",
      "Bagged_RG_DT: 0.233892, (0.000006)\n"
     ]
    },
    {
     "data": {
      "image/png": "[encoded data removed]",
      "text/plain": [
       "<Figure size 432x288 with 1 Axes>"
      ]
     },
     "metadata": {
      "needs_background": "light"
     },
     "output_type": "display_data"
    },
    {
     "data": {
      "text/plain": [
       "'\\nBase Model:\\nNaive_Bayes: 0.893098, (0.000001)\\nDecision_Tree: 0.051120, (0.000001)\\nBagged_Decision_Tree: 0.031982, (0.000001)\\nRandom_Forest: 0.044753, (0.000001)\\nBoosted_Decision_Tree: 0.050997, (0.000001)\\nBagged_RG_DT: 0.225795, (0.000008)'"
      ]
     },
     "execution_count": 66,
     "metadata": {},
     "output_type": "execute_result"
    }
   ],
   "source": [
    "modelis2(df_soil_bin, 'minmax', 'skf')\n",
    "\n",
    "'''\n",
    "Base Model:\n",
    "Naive_Bayes: 0.893098, (0.000001)\n",
    "Decision_Tree: 0.051120, (0.000001)\n",
    "Bagged_Decision_Tree: 0.031982, (0.000001)\n",
    "Random_Forest: 0.044753, (0.000001)\n",
    "Boosted_Decision_Tree: 0.050997, (0.000001)\n",
    "Bagged_RG_DT: 0.225795, (0.000008)'''"
   ]
  },
  {
   "cell_type": "code",
   "execution_count": 67,
   "metadata": {},
   "outputs": [
    {
     "data": {
      "image/png": "[encoded data removed]",
      "text/plain": [
       "<Figure size 432x288 with 1 Axes>"
      ]
     },
     "metadata": {
      "needs_background": "light"
     },
     "output_type": "display_data"
    }
   ],
   "source": [
    "rf_imp(df_soil_bin,10)"
   ]
  }
 ],
 "metadata": {
  "accelerator": "TPU",
  "colab": {
   "name": "Capstone Project.ipynb",
   "provenance": []
  },
  "kernelspec": {
   "display_name": "Python 3",
   "language": "python",
   "name": "python3"
  },
  "language_info": {
   "codemirror_mode": {
    "name": "ipython",
    "version": 3
   },
   "file_extension": ".py",
   "mimetype": "text/x-python",
   "name": "python",
   "nbconvert_exporter": "python",
   "pygments_lexer": "ipython3",
   "version": "3.7.4"
  }
 },
 "nbformat": 4,
 "nbformat_minor": 1
}
